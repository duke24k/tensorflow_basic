{
 "cells": [
  {
   "cell_type": "code",
   "execution_count": 1,
   "metadata": {
    "collapsed": true,
    "deletable": true,
    "editable": true
   },
   "outputs": [],
   "source": [
    "import tensorflow as tf"
   ]
  },
  {
   "cell_type": "code",
   "execution_count": 2,
   "metadata": {
    "collapsed": true,
    "deletable": true,
    "editable": true
   },
   "outputs": [],
   "source": [
    "def master_initializer():\n",
    "    uninitailized_variables=[] \n",
    "    for v in tf.global_variables():\n",
    "        try :\n",
    "            sess.run(v)\n",
    "        except tf.errors.FailedPreconditionError:\n",
    "            uninitailized_variables.append(v)\n",
    "    return tf.variables_initializer(uninitailized_variables)\n",
    "\n",
    "def print_keys(string):\n",
    "    print(\"Collection name : {}\".format(string))\n",
    "    i = 0\n",
    "    while True:\n",
    "        try:\n",
    "            print(tf.get_collection(string)[i])\n",
    "            i+=1\n",
    "        except IndexError:\n",
    "            break;\n",
    "\n",
    "def get_tensor_by_name(string):\n",
    "    i = 0\n",
    "    while True:\n",
    "        try:\n",
    "            if tf.global_variables()[i].name == string:\n",
    "                return tf.global_variables()[i]\n",
    "            i+=1\n",
    "        except IndexError:\n",
    "            print(\"No such tensor\")\n",
    "            return None"
   ]
  },
  {
   "cell_type": "code",
   "execution_count": 3,
   "metadata": {
    "collapsed": false,
    "deletable": true,
    "editable": true
   },
   "outputs": [
    {
     "name": "stdout",
     "output_type": "stream",
     "text": [
      "tf.GraphKeys.GLOBAL_VARIABLES : variables\n",
      "<class 'str'>\n",
      "tf.GraphKeys.TRAINABLE_VARIABLES : trainable_variables\n",
      "<class 'str'>\n"
     ]
    }
   ],
   "source": [
    "print(\"tf.GraphKeys.GLOBAL_VARIABLES : {}\".format(tf.GraphKeys.GLOBAL_VARIABLES))\n",
    "print(type(tf.GraphKeys.GLOBAL_VARIABLES))\n",
    "print(\"tf.GraphKeys.TRAINABLE_VARIABLES : {}\".format(tf.GraphKeys.TRAINABLE_VARIABLES))\n",
    "print(type(tf.GraphKeys.TRAINABLE_VARIABLES))"
   ]
  },
  {
   "cell_type": "markdown",
   "metadata": {
    "deletable": true,
    "editable": true
   },
   "source": [
    "# Variables generation\n",
    "    v3 : not trainable\n",
    "    v4 : trainable"
   ]
  },
  {
   "cell_type": "code",
   "execution_count": 4,
   "metadata": {
    "collapsed": true,
    "deletable": true,
    "editable": true
   },
   "outputs": [],
   "source": [
    "v3 = tf.Variable(1.0, name=\"v3\", trainable=False )\n",
    "v4 = tf.Variable(2.0, name=\"v4\")"
   ]
  },
  {
   "cell_type": "markdown",
   "metadata": {
    "deletable": true,
    "editable": true
   },
   "source": [
    "# Before restoration\n",
    "-Everything are pointers(?)"
   ]
  },
  {
   "cell_type": "code",
   "execution_count": 5,
   "metadata": {
    "collapsed": false,
    "deletable": true,
    "editable": true
   },
   "outputs": [
    {
     "name": "stdout",
     "output_type": "stream",
     "text": [
      "tf.global_variables()\n",
      "[<tensorflow.python.ops.variables.Variable object at 0x7f8e2fbd7a58>, <tensorflow.python.ops.variables.Variable object at 0x7f8e3c098390>]\n",
      "tf.trainable_variables()\n",
      "[<tensorflow.python.ops.variables.Variable object at 0x7f8e3c098390>]\n",
      "tf.get_collection(\"variables\")\n",
      "[<tensorflow.python.ops.variables.Variable object at 0x7f8e2fbd7a58>, <tensorflow.python.ops.variables.Variable object at 0x7f8e3c098390>]\n",
      "tf.get_collection(\"trainable_variable\")\n",
      "[<tensorflow.python.ops.variables.Variable object at 0x7f8e3c098390>]\n",
      "Collection name : variables\n",
      "Tensor(\"v3/read:0\", shape=(), dtype=float32)\n",
      "Tensor(\"v4/read:0\", shape=(), dtype=float32)\n",
      "Collection name : trainable_variables\n",
      "Tensor(\"v4/read:0\", shape=(), dtype=float32)\n"
     ]
    }
   ],
   "source": [
    "print(\"tf.global_variables()\")\n",
    "print(tf.global_variables())\n",
    "print(\"tf.trainable_variables()\")\n",
    "print(tf.trainable_variables())\n",
    "print('tf.get_collection(\"variables\")')\n",
    "print(tf.get_collection(\"variables\"))\n",
    "print('tf.get_collection(\"trainable_variable\")')\n",
    "print(tf.get_collection(\"trainable_variables\"))\n",
    "print_keys(\"variables\")\n",
    "print_keys(\"trainable_variables\")"
   ]
  },
  {
   "cell_type": "markdown",
   "metadata": {
    "deletable": true,
    "editable": true
   },
   "source": [
    "# Restoration"
   ]
  },
  {
   "cell_type": "code",
   "execution_count": 6,
   "metadata": {
    "collapsed": true,
    "deletable": true,
    "editable": true
   },
   "outputs": [],
   "source": [
    "sess = tf.Session()\n",
    "saver = tf.train.import_meta_graph('./save/model.meta')"
   ]
  },
  {
   "cell_type": "markdown",
   "metadata": {
    "deletable": true,
    "editable": true
   },
   "source": [
    "# After restoration"
   ]
  },
  {
   "cell_type": "code",
   "execution_count": 7,
   "metadata": {
    "collapsed": false,
    "deletable": true,
    "editable": true
   },
   "outputs": [
    {
     "name": "stdout",
     "output_type": "stream",
     "text": [
      "Collection name : variables\n",
      "Tensor(\"v3/read:0\", shape=(), dtype=float32)\n",
      "Tensor(\"v4/read:0\", shape=(), dtype=float32)\n",
      "Tensor(\"v1/read:0\", shape=(), dtype=float32)\n",
      "Tensor(\"v2/read:0\", shape=(), dtype=float32)\n",
      "Collection name : trainable_variables\n",
      "Tensor(\"v4/read:0\", shape=(), dtype=float32)\n",
      "Tensor(\"v1/read:0\", shape=(), dtype=float32)\n",
      "Tensor(\"v2/read:0\", shape=(), dtype=float32)\n"
     ]
    }
   ],
   "source": [
    "print_keys(\"variables\")\n",
    "print_keys(\"trainable_variables\")"
   ]
  },
  {
   "cell_type": "code",
   "execution_count": 8,
   "metadata": {
    "collapsed": false,
    "deletable": true,
    "editable": true
   },
   "outputs": [
    {
     "name": "stdout",
     "output_type": "stream",
     "text": [
      "v3 : 1.0\n",
      "v4 : 2.0\n",
      "v1 : 1.3200000524520874\n",
      "v2 : 1.3300000429153442\n"
     ]
    }
   ],
   "source": [
    "sess.run(master_initializer())\n",
    "saver.restore(sess, \"./save/model\")\n",
    "print(\"v3 : {}\".format(sess.run(v3)))\n",
    "print(\"v4 : {}\".format(sess.run(v4)))\n",
    "\n",
    "v1_restore = get_tensor_by_name(\"v1:0\")\n",
    "v2_restore = get_tensor_by_name(\"v2:0\")\n",
    "print(\"v1 : {}\".format(sess.run(v1_restore)))\n",
    "print(\"v2 : {}\".format(sess.run(v2_restore)))"
   ]
  },
  {
   "cell_type": "markdown",
   "metadata": {
    "deletable": true,
    "editable": true
   },
   "source": [
    "# Bonus restoration with get_variable "
   ]
  },
  {
   "cell_type": "code",
   "execution_count": 9,
   "metadata": {
    "collapsed": false,
    "deletable": true,
    "editable": true
   },
   "outputs": [],
   "source": [
    "with tf.variable_scope(\"hi\"):\n",
    "    temp = tf.get_collection(\"trainable_variables\")[1]\n",
    "    temp2 = tf.get_variable(\"v1_restore\", shape = temp.get_shape(), initializer = tf.constant_initializer(sess.run(temp)))\n",
    "    tf.get_variable_scope().reuse_variables()\n",
    "    v1_restore2 = tf.get_variable(name=\"v1_restore\", shape = None)"
   ]
  },
  {
   "cell_type": "code",
   "execution_count": 10,
   "metadata": {
    "collapsed": false,
    "deletable": true,
    "editable": true
   },
   "outputs": [
    {
     "name": "stdout",
     "output_type": "stream",
     "text": [
      "v1 : 1.3200000524520874\n"
     ]
    }
   ],
   "source": [
    "sess.run(master_initializer())\n",
    "print(\"v1 : {}\".format(sess.run(v1_restore2)))"
   ]
  },
  {
   "cell_type": "markdown",
   "metadata": {
    "deletable": true,
    "editable": true
   },
   "source": [
    "# Other method to visualize variables "
   ]
  },
  {
   "cell_type": "code",
   "execution_count": 11,
   "metadata": {
    "collapsed": false,
    "deletable": true,
    "editable": true
   },
   "outputs": [
    {
     "name": "stdout",
     "output_type": "stream",
     "text": [
      "['v4:0', 'v1:0', 'v2:0', 'hi/v1_restore:0']\n",
      "Tensor(\"v3/read:0\", shape=(), dtype=float32)\n",
      "Tensor(\"v4/read:0\", shape=(), dtype=float32)\n",
      "Tensor(\"v1/read:0\", shape=(), dtype=float32)\n",
      "Tensor(\"v2/read:0\", shape=(), dtype=float32)\n",
      "Tensor(\"hi/v1_restore/read:0\", shape=(), dtype=float32)\n"
     ]
    }
   ],
   "source": [
    "print([v.name for v in tf.trainable_variables()])\n",
    "\n",
    "for v in tf.global_variables():\n",
    "    print(v)"
   ]
  }
 ],
 "metadata": {
  "kernelspec": {
   "display_name": "Python 3",
   "language": "python",
   "name": "python3"
  },
  "language_info": {
   "codemirror_mode": {
    "name": "ipython",
    "version": 3
   },
   "file_extension": ".py",
   "mimetype": "text/x-python",
   "name": "python",
   "nbconvert_exporter": "python",
   "pygments_lexer": "ipython3",
   "version": "3.4.5"
  }
 },
 "nbformat": 4,
 "nbformat_minor": 2
}
