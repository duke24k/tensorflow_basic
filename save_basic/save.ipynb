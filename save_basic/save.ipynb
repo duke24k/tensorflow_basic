{
 "cells": [
  {
   "cell_type": "code",
   "execution_count": 1,
   "metadata": {
    "collapsed": true,
    "deletable": true,
    "editable": true
   },
   "outputs": [],
   "source": [
    "import tensorflow as tf"
   ]
  },
  {
   "cell_type": "code",
   "execution_count": 2,
   "metadata": {
    "collapsed": true,
    "deletable": true,
    "editable": true
   },
   "outputs": [],
   "source": [
    "def save_model(save_path):\n",
    "    saver = tf.train.Saver()\n",
    "    saver.save(sess, save_path)"
   ]
  },
  {
   "cell_type": "code",
   "execution_count": 3,
   "metadata": {
    "collapsed": false,
    "deletable": true,
    "editable": true
   },
   "outputs": [
    {
     "name": "stdout",
     "output_type": "stream",
     "text": [
      "v1 : 1.3200000524520874\n",
      "v2 : 1.3300000429153442\n"
     ]
    }
   ],
   "source": [
    "v1 = tf.Variable(1.32, name=\"v1\")\n",
    "v2 = tf.Variable(1.33, name=\"v2\")\n",
    "\n",
    "init = tf.global_variables_initializer()\n",
    "\n",
    "save_path=\"./save/model\"\n",
    "\n",
    "sess = tf.Session()\n",
    "sess.run(init)\n",
    "\n",
    "print(\"v1 : {}\".format(sess.run(v1)))\n",
    "print(\"v2 : {}\".format(sess.run(v2)))\n",
    "\n",
    "save_model(save_path) "
   ]
  }
 ],
 "metadata": {
  "kernelspec": {
   "display_name": "Python 3",
   "language": "python",
   "name": "python3"
  },
  "language_info": {
   "codemirror_mode": {
    "name": "ipython",
    "version": 3
   },
   "file_extension": ".py",
   "mimetype": "text/x-python",
   "name": "python",
   "nbconvert_exporter": "python",
   "pygments_lexer": "ipython3",
   "version": "3.4.5"
  }
 },
 "nbformat": 4,
 "nbformat_minor": 2
}
