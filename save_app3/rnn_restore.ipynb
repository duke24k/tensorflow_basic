{
 "cells": [
  {
   "cell_type": "code",
   "execution_count": 1,
   "metadata": {
    "collapsed": true
   },
   "outputs": [],
   "source": [
    "from utils import *"
   ]
  },
  {
   "cell_type": "code",
   "execution_count": 2,
   "metadata": {
    "collapsed": false
   },
   "outputs": [
    {
     "name": "stdout",
     "output_type": "stream",
     "text": [
      "(10, 10, 1)\n",
      "(10, 1)\n"
     ]
    }
   ],
   "source": [
    "rnn_size = 1\n",
    "\n",
    "data_size = 10\n",
    "num_data = 10\n",
    "\n",
    "x_data = []\n",
    "y_data = []\n",
    "\n",
    "normalizer = 1\n",
    "\n",
    "for i in range(num_data):\n",
    "    input_temp = []\n",
    "    for j in range(i,i+data_size):\n",
    "        input_temp.append(j*normalizer)\n",
    "    x_data.append(input_temp)\n",
    "    output_temp = normalizer*(i+data_size)\n",
    "    y_data.append(output_temp) \n",
    "\n",
    "x_data = np.array(x_data, dtype = np.float32)\n",
    "x_data = np.reshape(x_data, [num_data,data_size,1])\n",
    "y_data = np.array(y_data, dtype = np.float32)\n",
    "y_data = np.reshape(y_data,[-1,1])\n",
    "\n",
    "print(x_data.shape)\n",
    "print(y_data.shape)"
   ]
  },
  {
   "cell_type": "code",
   "execution_count": 3,
   "metadata": {
    "collapsed": true
   },
   "outputs": [],
   "source": [
    "train_x = tf.placeholder('float', [None, data_size,1 ])\n",
    "train_y = tf.placeholder('float', [None,1])\n",
    "\n",
    "train_x_temp = tf.transpose(train_x, [1,0,2])\n",
    "train_x_temp = tf.reshape(train_x_temp, [-1,1])\n",
    "train_x_temp =tf.split(train_x_temp, num_or_size_splits=int(data_size), axis=0)"
   ]
  },
  {
   "cell_type": "code",
   "execution_count": 4,
   "metadata": {
    "collapsed": false,
    "deletable": true,
    "editable": true
   },
   "outputs": [
    {
     "name": "stdout",
     "output_type": "stream",
     "text": [
      "Collection name : trainable_variables\n",
      "Tensor(\"Variable/read:0\", shape=(1, 1), dtype=float32)\n",
      "Tensor(\"Variable_1/read:0\", shape=(1,), dtype=float32)\n",
      "Tensor(\"rnn/rnn/lstm_cell/weights/read:0\", shape=(2, 4), dtype=float32)\n",
      "Tensor(\"rnn/rnn/lstm_cell/biases/read:0\", shape=(4,), dtype=float32)\n"
     ]
    }
   ],
   "source": [
    "sess = tf.Session()\n",
    "saver = tf.train.import_meta_graph('./save/rnn.meta')\n",
    "saver.restore(sess, './save/rnn')\n",
    "weight = get_tensor_by_name(\"Variable:0\")\n",
    "bias = get_tensor_by_name(\"Variable_1:0\")\n",
    "print_keys(\"trainable_variables\")"
   ]
  },
  {
   "cell_type": "code",
   "execution_count": 5,
   "metadata": {
    "collapsed": false
   },
   "outputs": [
    {
     "name": "stdout",
     "output_type": "stream",
     "text": [
      "Collection name : trainable_variables\n",
      "Tensor(\"Variable/read:0\", shape=(1, 1), dtype=float32)\n",
      "Tensor(\"Variable_1/read:0\", shape=(1,), dtype=float32)\n",
      "Tensor(\"rnn/rnn/lstm_cell/weights/read:0\", shape=(2, 4), dtype=float32)\n",
      "Tensor(\"rnn/rnn/lstm_cell/biases/read:0\", shape=(4,), dtype=float32)\n"
     ]
    }
   ],
   "source": [
    "lstm_cell = tf.contrib.rnn.LSTMCell(rnn_size) \n",
    "print_keys(\"trainable_variables\")\n"
   ]
  },
  {
   "cell_type": "code",
   "execution_count": 6,
   "metadata": {
    "collapsed": false
   },
   "outputs": [],
   "source": [
    "with tf.variable_scope(\"restore\") as scope:\n",
    "    lstm_cell = tf.contrib.rnn.LSTMCell(rnn_size)\n",
    "    lstm_weight = tf.get_collection(\"trainable_variables\")[2]\n",
    "    lstm_bias = tf.get_collection(\"trainable_variables\")[3]\n",
    "    tf.get_variable(name = 'rnn/lstm_cell/weights'\n",
    "                    , shape = lstm_weight.get_shape()\n",
    "                    , initializer = tf.constant_initializer(sess.run(lstm_weight)))\n",
    "    tf.get_variable(name = 'rnn/lstm_cell/biases'\n",
    "                    , shape = lstm_bias.get_shape()\n",
    "                    , initializer = tf.constant_initializer(sess.run(lstm_bias)))\n",
    "    scope.reuse_variables()\n",
    "    train_outputs, states = tf.contrib.rnn.static_rnn(lstm_cell, train_x_temp, dtype = tf.float32)\n",
    "    train_output = tf.matmul(train_outputs[-1], weight) + bias"
   ]
  },
  {
   "cell_type": "code",
   "execution_count": 8,
   "metadata": {
    "collapsed": false
   },
   "outputs": [],
   "source": [
    "sess.run(master_initializer(sess))"
   ]
  },
  {
   "cell_type": "code",
   "execution_count": 9,
   "metadata": {
    "collapsed": false
   },
   "outputs": [
    {
     "name": "stdout",
     "output_type": "stream",
     "text": [
      "[[ 10.28840828]\n",
      " [ 10.8922596 ]\n",
      " [ 11.73054886]\n",
      " [ 12.85735607]\n",
      " [ 14.18762493]\n",
      " [ 15.3575592 ]\n",
      " [ 16.03669167]\n",
      " [ 16.31197357]\n",
      " [ 16.40358734]\n",
      " [ 16.4320507 ]]\n",
      "[[ 10.]\n",
      " [ 11.]\n",
      " [ 12.]\n",
      " [ 13.]\n",
      " [ 14.]\n",
      " [ 15.]\n",
      " [ 16.]\n",
      " [ 17.]\n",
      " [ 18.]\n",
      " [ 19.]]\n"
     ]
    }
   ],
   "source": [
    "print(sess.run(train_output, feed_dict = {train_x : x_data}))\n",
    "print(y_data)"
   ]
  },
  {
   "cell_type": "code",
   "execution_count": 10,
   "metadata": {
    "collapsed": false
   },
   "outputs": [
    {
     "name": "stdout",
     "output_type": "stream",
     "text": [
      "Collection name : trainable_variables\n",
      "Tensor(\"Variable/read:0\", shape=(1, 1), dtype=float32)\n",
      "Tensor(\"Variable_1/read:0\", shape=(1,), dtype=float32)\n",
      "Tensor(\"rnn/rnn/lstm_cell/weights/read:0\", shape=(2, 4), dtype=float32)\n",
      "Tensor(\"rnn/rnn/lstm_cell/biases/read:0\", shape=(4,), dtype=float32)\n",
      "Tensor(\"restore/rnn/lstm_cell/weights/read:0\", shape=(2, 4), dtype=float32)\n",
      "Tensor(\"restore/rnn/lstm_cell/biases/read:0\", shape=(4,), dtype=float32)\n"
     ]
    }
   ],
   "source": [
    "print_keys(\"trainable_variables\")"
   ]
  }
 ],
 "metadata": {
  "kernelspec": {
   "display_name": "Python 3",
   "language": "python",
   "name": "python3"
  },
  "language_info": {
   "codemirror_mode": {
    "name": "ipython",
    "version": 3
   },
   "file_extension": ".py",
   "mimetype": "text/x-python",
   "name": "python",
   "nbconvert_exporter": "python",
   "pygments_lexer": "ipython3",
   "version": "3.4.5"
  }
 },
 "nbformat": 4,
 "nbformat_minor": 2
}
