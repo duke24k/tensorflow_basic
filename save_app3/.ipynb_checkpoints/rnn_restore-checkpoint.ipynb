{
 "cells": [
  {
   "cell_type": "code",
   "execution_count": 1,
   "metadata": {
    "collapsed": true,
    "deletable": true,
    "editable": true
   },
   "outputs": [],
   "source": [
    "from utils import *"
   ]
  },
  {
   "cell_type": "markdown",
   "metadata": {},
   "source": [
    "# test data generation"
   ]
  },
  {
   "cell_type": "code",
   "execution_count": 2,
   "metadata": {
    "collapsed": false,
    "deletable": true,
    "editable": true
   },
   "outputs": [
    {
     "name": "stdout",
     "output_type": "stream",
     "text": [
      "(2, 5, 1)\n",
      "(2, 1)\n"
     ]
    }
   ],
   "source": [
    "rnn_size = 1\n",
    "\n",
    "data_size = 5\n",
    "num_data = 2\n",
    "\n",
    "x_data = []\n",
    "y_data = []\n",
    "\n",
    "normalizer = 1\n",
    "\n",
    "for i in range(num_data):\n",
    "    input_temp = []\n",
    "    for j in range(i,i+data_size):\n",
    "        input_temp.append(j*normalizer)\n",
    "    x_data.append(input_temp)\n",
    "    output_temp = normalizer*(i+data_size)\n",
    "    y_data.append(output_temp) \n",
    "\n",
    "x_data = np.array(x_data, dtype = np.float32)\n",
    "x_data = np.reshape(x_data, [num_data,data_size,1])\n",
    "y_data = np.array(y_data, dtype = np.float32)\n",
    "y_data = np.reshape(y_data,[-1,1])\n",
    "\n",
    "print(x_data.shape)\n",
    "print(y_data.shape)"
   ]
  },
  {
   "cell_type": "markdown",
   "metadata": {},
   "source": [
    "# Graph restore"
   ]
  },
  {
   "cell_type": "code",
   "execution_count": 3,
   "metadata": {
    "collapsed": false
   },
   "outputs": [
    {
     "name": "stdout",
     "output_type": "stream",
     "text": [
      "Collection name : trainable_variables\n",
      "Tensor(\"Variable/read:0\", shape=(1, 1), dtype=float32)\n",
      "Tensor(\"Variable_1/read:0\", shape=(1,), dtype=float32)\n",
      "Tensor(\"rnn/rnn/lstm_cell/weights/read:0\", shape=(2, 4), dtype=float32)\n",
      "Tensor(\"rnn/rnn/lstm_cell/biases/read:0\", shape=(4,), dtype=float32)\n"
     ]
    }
   ],
   "source": [
    "sess = tf.Session()\n",
    "saver = tf.train.import_meta_graph('./save/rnn.meta')\n",
    "saver.restore(sess, './save/rnn')\n",
    "print_keys(\"trainable_variables\")"
   ]
  },
  {
   "cell_type": "markdown",
   "metadata": {},
   "source": [
    "# Basic variable restore"
   ]
  },
  {
   "cell_type": "code",
   "execution_count": 4,
   "metadata": {
    "collapsed": false,
    "deletable": true,
    "editable": true
   },
   "outputs": [],
   "source": [
    "weight = get_tensor_by_name(\"Variable:0\")\n",
    "bias = get_tensor_by_name(\"Variable_1:0\")"
   ]
  },
  {
   "cell_type": "markdown",
   "metadata": {},
   "source": [
    "# LSTM variable restore"
   ]
  },
  {
   "cell_type": "code",
   "execution_count": 5,
   "metadata": {
    "collapsed": true,
    "deletable": true,
    "editable": true
   },
   "outputs": [],
   "source": [
    "train_x = tf.placeholder('float', [None, data_size,1 ])\n",
    "train_y = tf.placeholder('float', [None,1])\n",
    "\n",
    "train_x_temp = tf.transpose(train_x, [1,0,2])\n",
    "train_x_temp = tf.reshape(train_x_temp, [-1,1])\n",
    "train_x_temp =tf.split(train_x_temp, num_or_size_splits=int(data_size), axis=0)\n",
    "\n",
    "with tf.variable_scope(\"restore\") as scope:\n",
    "    lstm_cell = tf.contrib.rnn.LSTMCell(rnn_size) # varaible is not created here\n",
    "    \n",
    "    # Just for short cut please check with print_keys(\"trainable_variables\")\n",
    "    lstm_weight = tf.get_collection(\"trainable_variables\")[2]\n",
    "    lstm_bias = tf.get_collection(\"trainable_variables\")[3]\n",
    "    \n",
    "    # Declare same variable with get_variable, name is very important\n",
    "    tf.get_variable(name = 'rnn/lstm_cell/weights'\n",
    "                    , shape = lstm_weight.get_shape()\n",
    "                    , initializer = tf.constant_initializer(sess.run(lstm_weight)))\n",
    "    tf.get_variable(name = 'rnn/lstm_cell/biases'\n",
    "                    , shape = lstm_bias.get_shape()\n",
    "                    , initializer = tf.constant_initializer(sess.run(lstm_bias)))\n",
    "    \n",
    "    scope.reuse_variables()\n",
    "    \n",
    "    # get_variable in here gets the variable declared before \n",
    "    train_outputs, states = tf.contrib.rnn.static_rnn(lstm_cell, train_x_temp, dtype = tf.float32)\n",
    "    train_output = tf.matmul(train_outputs[-1], weight) + bias"
   ]
  },
  {
   "cell_type": "markdown",
   "metadata": {},
   "source": [
    "# Initialize uninitailized variable\n",
    "* In this step, the variables in lstm modules are restored using get_variable()"
   ]
  },
  {
   "cell_type": "code",
   "execution_count": 6,
   "metadata": {
    "collapsed": false,
    "deletable": true,
    "editable": true
   },
   "outputs": [],
   "source": [
    "sess.run(master_initializer(sess))"
   ]
  },
  {
   "cell_type": "code",
   "execution_count": 7,
   "metadata": {
    "collapsed": false,
    "deletable": true,
    "editable": true
   },
   "outputs": [
    {
     "name": "stdout",
     "output_type": "stream",
     "text": [
      "[[ 9.02582455]\n",
      " [ 9.13531017]]\n",
      "[[ 5.]\n",
      " [ 6.]]\n"
     ]
    }
   ],
   "source": [
    "print(sess.run(train_output, feed_dict = {train_x : x_data}))\n",
    "print(y_data)"
   ]
  },
  {
   "cell_type": "code",
   "execution_count": 8,
   "metadata": {
    "collapsed": false,
    "deletable": true,
    "editable": true
   },
   "outputs": [
    {
     "name": "stdout",
     "output_type": "stream",
     "text": [
      "Collection name : trainable_variables\n",
      "Tensor(\"Variable/read:0\", shape=(1, 1), dtype=float32)\n",
      "Tensor(\"Variable_1/read:0\", shape=(1,), dtype=float32)\n",
      "Tensor(\"rnn/rnn/lstm_cell/weights/read:0\", shape=(2, 4), dtype=float32)\n",
      "Tensor(\"rnn/rnn/lstm_cell/biases/read:0\", shape=(4,), dtype=float32)\n",
      "Tensor(\"restore/rnn/lstm_cell/weights/read:0\", shape=(2, 4), dtype=float32)\n",
      "Tensor(\"restore/rnn/lstm_cell/biases/read:0\", shape=(4,), dtype=float32)\n"
     ]
    }
   ],
   "source": [
    "print_keys(\"trainable_variables\")"
   ]
  }
 ],
 "metadata": {
  "kernelspec": {
   "display_name": "Python 3",
   "language": "python",
   "name": "python3"
  },
  "language_info": {
   "codemirror_mode": {
    "name": "ipython",
    "version": 3
   },
   "file_extension": ".py",
   "mimetype": "text/x-python",
   "name": "python",
   "nbconvert_exporter": "python",
   "pygments_lexer": "ipython3",
   "version": "3.4.5"
  }
 },
 "nbformat": 4,
 "nbformat_minor": 2
}
