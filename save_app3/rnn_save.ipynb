{
 "cells": [
  {
   "cell_type": "code",
   "execution_count": 1,
   "metadata": {
    "collapsed": false
   },
   "outputs": [],
   "source": [
    "from utils import *"
   ]
  },
  {
   "cell_type": "markdown",
   "metadata": {},
   "source": [
    "# Data generation"
   ]
  },
  {
   "cell_type": "code",
   "execution_count": 2,
   "metadata": {
    "collapsed": false
   },
   "outputs": [
    {
     "name": "stdout",
     "output_type": "stream",
     "text": [
      "(10, 10, 1)\n",
      "(10, 1)\n"
     ]
    }
   ],
   "source": [
    "# learning data\n",
    "rnn_size = 1\n",
    "train_steps = 10000\n",
    "test_data_size = 10\n",
    "\n",
    "data_size = 10\n",
    "num_data = 10\n",
    "\n",
    "x_data = []\n",
    "y_data = []\n",
    "\n",
    "normalizer = 1\n",
    "\n",
    "for i in range(num_data):\n",
    "    input_temp = []\n",
    "    for j in range(i,i+data_size):\n",
    "        input_temp.append(j*normalizer)\n",
    "    x_data.append(input_temp)\n",
    "    output_temp = normalizer*(i+data_size)\n",
    "    y_data.append(output_temp) \n",
    "\n",
    "x_data = np.array(x_data, dtype = np.float32)\n",
    "x_data = np.reshape(x_data, [num_data,data_size,1])\n",
    "y_data = np.array(y_data, dtype = np.float32)\n",
    "y_data = np.reshape(y_data,[-1,1])\n",
    "\n",
    "#print(x_data)\n",
    "#print(y_data)\n",
    "print(x_data.shape)\n",
    "print(y_data.shape)"
   ]
  },
  {
   "cell_type": "markdown",
   "metadata": {},
   "source": [
    "# Train"
   ]
  },
  {
   "cell_type": "code",
   "execution_count": 3,
   "metadata": {
    "collapsed": false
   },
   "outputs": [
    {
     "name": "stdout",
     "output_type": "stream",
     "text": [
      "cost = 232.19534301757812\n",
      "cost = 203.6514892578125\n",
      "cost = 109.11512756347656\n",
      "cost = 75.1176986694336\n",
      "cost = 50.50107955932617\n",
      "cost = 32.66964340209961\n",
      "cost = 20.551624298095703\n",
      "cost = 13.240986824035645\n",
      "cost = 9.616631507873535\n",
      "cost = 6.087812423706055\n",
      "cost = 3.693427562713623\n"
     ]
    }
   ],
   "source": [
    "# train\n",
    "train_x = tf.placeholder('float', [None, data_size,1 ])\n",
    "train_y = tf.placeholder('float', [None,1])\n",
    "\n",
    "train_x_temp = tf.transpose(train_x, [1,0,2])\n",
    "train_x_temp = tf.reshape(train_x_temp, [-1,1])\n",
    "train_x_temp =tf.split(train_x_temp, num_or_size_splits=int(data_size), axis=0)\n",
    "\n",
    "layer = {'weights':tf.Variable(tf.random_normal([rnn_size, 1])),\n",
    "            'biases':tf.Variable(tf.random_normal([1]))}\n",
    " \n",
    "with tf.variable_scope(\"rnn\") as scope:\n",
    "    lstm_cell = tf.contrib.rnn.LSTMCell(rnn_size)\n",
    "    train_outputs, train_states = tf.contrib.rnn.static_rnn(lstm_cell, train_x_temp, dtype=tf.float32) \n",
    "    train_output = tf.matmul(train_outputs[-1],layer['weights']) + layer['biases']\n",
    "\n",
    "error = tf.reduce_mean(tf.square(train_output-train_y))\n",
    "optimizer = tf.train.AdamOptimizer().minimize(error)\n",
    "\n",
    "sess = tf.Session()\n",
    "sess.run(tf.global_variables_initializer())\n",
    "for i in range(train_steps+1):\n",
    "    a,c = sess.run([optimizer, error],feed_dict = {train_x : x_data, train_y : y_data})\n",
    "    if i%1000==0:\n",
    "        print(\"cost = {}\".format(c))"
   ]
  },
  {
   "cell_type": "markdown",
   "metadata": {},
   "source": [
    "# Train result"
   ]
  },
  {
   "cell_type": "code",
   "execution_count": 4,
   "metadata": {
    "collapsed": false
   },
   "outputs": [
    {
     "name": "stdout",
     "output_type": "stream",
     "text": [
      "[[ 11.85977364]\n",
      " [ 12.46920204]\n",
      " [ 13.0351553 ]\n",
      " [ 13.54467297]\n",
      " [ 13.98787403]\n",
      " [ 14.35908318]\n",
      " [ 14.65758991]\n",
      " [ 14.88770676]\n",
      " [ 15.05791187]\n",
      " [ 15.17908382]]\n"
     ]
    }
   ],
   "source": [
    "print(sess.run(train_output, feed_dict = {train_x : x_data}))"
   ]
  },
  {
   "cell_type": "markdown",
   "metadata": {},
   "source": [
    "# Save"
   ]
  },
  {
   "cell_type": "code",
   "execution_count": 5,
   "metadata": {
    "collapsed": false
   },
   "outputs": [],
   "source": [
    "saver = tf.train.Saver(tf.trainable_variables())\n",
    "saver.save(sess, './save/rnn')\n",
    "sess.close()"
   ]
  }
 ],
 "metadata": {
  "kernelspec": {
   "display_name": "Python 3",
   "language": "python",
   "name": "python3"
  },
  "language_info": {
   "codemirror_mode": {
    "name": "ipython",
    "version": 3
   },
   "file_extension": ".py",
   "mimetype": "text/x-python",
   "name": "python",
   "nbconvert_exporter": "python",
   "pygments_lexer": "ipython3",
   "version": "3.4.5"
  }
 },
 "nbformat": 4,
 "nbformat_minor": 2
}
